{
 "cells": [
  {
   "cell_type": "code",
   "execution_count": 6,
   "metadata": {},
   "outputs": [],
   "source": [
    "import pandas as pd\n",
    "import requests\n",
    "from io import StringIO\n",
    "\n",
    "def scrape_football_data(league: str, season: str) -> pd.DataFrame:\n",
    "    # El formato correcto para la URL incluye ambas partes de la temporada (e.g., \"9394\", \"9495\", etc.)\n",
    "    base_url = f\"https://www.football-data.co.uk/mmz4281/{int(season)}/{league}.csv\"\n",
    "    response = requests.get(base_url)\n",
    "    \n",
    "    if response.status_code == 200:\n",
    "        csv_data = StringIO(response.text)\n",
    "        df = pd.read_csv(csv_data)\n",
    "        return df\n",
    "    elif response.status_code == 404:\n",
    "        print(f\"Datos no encontrados para {league} en la temporada {season}. URL: {base_url}\")\n",
    "        return pd.DataFrame()  # Retorna un DataFrame vacío si no se encuentra el archivo\n",
    "    else:\n",
    "        raise Exception(f\"Error al descargar los datos: {response.status_code}\")\n"
   ]
  },
  {
   "cell_type": "code",
   "execution_count": 8,
   "metadata": {},
   "outputs": [],
   "source": [
    "df = scrape_football_data(\"E0\", \"2223\")\n",
    "columns_list = df.columns.tolist()\n"
   ]
  }
 ],
 "metadata": {
  "kernelspec": {
   "display_name": "venv",
   "language": "python",
   "name": "python3"
  },
  "language_info": {
   "codemirror_mode": {
    "name": "ipython",
    "version": 3
   },
   "file_extension": ".py",
   "mimetype": "text/x-python",
   "name": "python",
   "nbconvert_exporter": "python",
   "pygments_lexer": "ipython3",
   "version": "3.12.2"
  }
 },
 "nbformat": 4,
 "nbformat_minor": 2
}
